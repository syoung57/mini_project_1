{
 "cells": [
  {
   "cell_type": "code",
   "execution_count": 1,
   "id": "c396459e",
   "metadata": {},
   "outputs": [],
   "source": [
    "from bs4 import BeautifulSoup\n",
    "import requests\n",
    "from selenium import webdriver\n",
    "from selenium.webdriver.chrome.service import Service\n",
    "from selenium.webdriver.common.by import By\n",
    "import time"
   ]
  },
  {
   "cell_type": "code",
   "execution_count": 2,
   "id": "b18305c5",
   "metadata": {},
   "outputs": [],
   "source": [
    "no_exp_choice = [\n",
    "    \"\"\"//*[@id=\"sp_main_wrapper\"]/div[1]/div[1]\"\"\",\n",
    "    \"\"\"//*[@id=\"sp_main_wrapper\"]/div[1]/div[1]/div/div[1]/div[1]/label\"\"\",\n",
    "    \"\"\"//*[@id=\"sp_main_wrapper\"]/div[1]/div[1]/div/div[3]/button[2]\"\"\"]\n",
    "city_choice = [\n",
    "    \"\"\"//*[@id=\"sp_main_wrapper\"]/div[2]/ul/li[2]/button/span[1]\"\"\",\n",
    "    \"\"\"//*[@id=\"depth1_btn_101000\"]/button/span[1]\"\"\",\n",
    "    \"\"\"//*[@id=\"depth1_btn_102000\"]/button/span[1]\"\"\"]\n",
    "job_choice = [\n",
    "    \"\"\"//*[@id=\"sp_main_wrapper\"]/div[2]/ul/li[1]/button/span[1]\"\"\"]"
   ]
  },
  {
   "cell_type": "code",
   "execution_count": 3,
   "id": "7f899935",
   "metadata": {},
   "outputs": [],
   "source": [
    "def option_click(xpath_list):\n",
    "    for xpath in xpath_list:\n",
    "        driver.find_element(By.XPATH, xpath).click()\n",
    "        time.sleep(1)"
   ]
  },
  {
   "cell_type": "code",
   "execution_count": 4,
   "id": "d50f5ee6",
   "metadata": {},
   "outputs": [],
   "source": [
    "driver = webdriver.Chrome(service=Service('driver/chromedriver'))\n",
    "driver.get(\"https://www.saramin.co.kr/zf_user/jobs/list/job-category\")"
   ]
  },
  {
   "cell_type": "code",
   "execution_count": null,
   "id": "0ea88033",
   "metadata": {},
   "outputs": [],
   "source": []
  }
 ],
 "metadata": {
  "kernelspec": {
   "display_name": "Python 3 (ipykernel)",
   "language": "python",
   "name": "python3"
  },
  "language_info": {
   "codemirror_mode": {
    "name": "ipython",
    "version": 3
   },
   "file_extension": ".py",
   "mimetype": "text/x-python",
   "name": "python",
   "nbconvert_exporter": "python",
   "pygments_lexer": "ipython3",
   "version": "3.8.12"
  }
 },
 "nbformat": 4,
 "nbformat_minor": 5
}
