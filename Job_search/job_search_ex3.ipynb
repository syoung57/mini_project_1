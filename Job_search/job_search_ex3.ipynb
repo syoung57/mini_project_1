{
 "cells": [
  {
   "cell_type": "code",
   "execution_count": 1,
   "id": "5f8af4d4",
   "metadata": {},
   "outputs": [],
   "source": [
    "from bs4 import BeautifulSoup\n",
    "import requests\n",
    "from selenium import webdriver\n",
    "from selenium.webdriver.chrome.service import Service\n",
    "from selenium.webdriver.common.by import By\n",
    "import time"
   ]
  },
  {
   "cell_type": "code",
   "execution_count": 21,
   "id": "9ecda1e1",
   "metadata": {},
   "outputs": [],
   "source": [
    "no_exp_choice = [\n",
    "    \"\"\"//*[@id=\"sp_main_wrapper\"]/div[1]/div[1]\"\"\",\n",
    "    \"\"\"//*[@id=\"sp_main_wrapper\"]/div[1]/div[1]/div/div[1]/div[1]/label\"\"\",\n",
    "    \"\"\"//*[@id=\"sp_main_wrapper\"]/div[1]/div[1]/div/div[3]/button[2]\"\"\"]\n",
    "city_choice = [\n",
    "    \"\"\"//*[@id=\"sp_main_wrapper\"]/div[2]/ul/li[2]/button/span[1]\"\"\",\n",
    "    \"\"\"//*[@id=\"depth1_btn_101000\"]/button/span[1]\"\"\",\n",
    "    \"\"\"//*[@id=\"depth1_btn_102000\"]/button/span[1]\"\"\"]\n",
    "job_choice = [\"\"\"//*[@id=\"sp_main_wrapper\"]/div[2]/ul/li[1]/button/span[1]\"\"\"]"
   ]
  },
  {
   "cell_type": "code",
   "execution_count": 3,
   "id": "549139ea",
   "metadata": {},
   "outputs": [],
   "source": [
    "def option_click(xpath_list):\n",
    "    for xpath in xpath_list:\n",
    "        driver.find_element(By.XPATH, xpath).click()"
   ]
  },
  {
   "cell_type": "code",
   "execution_count": 27,
   "id": "0b033133",
   "metadata": {},
   "outputs": [],
   "source": [
    "driver = webdriver.Chrome(service=Service('driver/chromedriver'))\n",
    "driver.get(\"https://www.saramin.co.kr/zf_user/jobs/list/job-category\")"
   ]
  },
  {
   "cell_type": "code",
   "execution_count": 28,
   "id": "565c237b",
   "metadata": {},
   "outputs": [],
   "source": [
    "choice_list = [no_exp_choice, city_choice, job_choice]\n",
    "for choice in choice_list:\n",
    "    option_click(choice)\n",
    "    time.sleep(1)"
   ]
  },
  {
   "cell_type": "code",
   "execution_count": 29,
   "id": "1d732ca3",
   "metadata": {},
   "outputs": [],
   "source": [
    "# 직업 선택\n",
    "xpath = \"\"\"//*[@id=\"sp_main_wrapper\"]/div[2]/ul/li[1]/button/span[1]\"\"\"\n",
    "driver.find_element(By.XPATH, xpath).click()\n",
    "time.sleep(1)"
   ]
  },
  {
   "cell_type": "code",
   "execution_count": 30,
   "id": "7b22b49c",
   "metadata": {},
   "outputs": [
    {
     "name": "stderr",
     "output_type": "stream",
     "text": [
      "E:\\T\\bit/ipykernel_7124/3334138916.py:3: DeprecationWarning: find_element_by_* commands are deprecated. Please use find_element() instead\n",
      "  element = driver.find_element_by_id(\"job_category_ipt_keyword\")\n"
     ]
    }
   ],
   "source": [
    "# 검색창에 python 입력\n",
    "skill_name = 'python'\n",
    "element = driver.find_element_by_id(\"job_category_ipt_keyword\")\n",
    "element.send_keys(skill_name)\n",
    "time.sleep(1)\n",
    "xpath = \"\"\"//*[@id=\"autocomplete_has_result\"]/div[1]/div[2]/div/ul/li[1]/div/label\"\"\"\n",
    "driver.find_element(By.XPATH, xpath).click()"
   ]
  },
  {
   "cell_type": "code",
   "execution_count": 31,
   "id": "60a028bc",
   "metadata": {},
   "outputs": [],
   "source": [
    "xpath = \"\"\"//*[@id=\"search_btn\"]\"\"\"\n",
    "driver.find_element(By.XPATH, xpath).click()"
   ]
  },
  {
   "cell_type": "code",
   "execution_count": null,
   "id": "f8ca9b5d",
   "metadata": {},
   "outputs": [],
   "source": []
  }
 ],
 "metadata": {
  "kernelspec": {
   "display_name": "Python 3 (ipykernel)",
   "language": "python",
   "name": "python3"
  },
  "language_info": {
   "codemirror_mode": {
    "name": "ipython",
    "version": 3
   },
   "file_extension": ".py",
   "mimetype": "text/x-python",
   "name": "python",
   "nbconvert_exporter": "python",
   "pygments_lexer": "ipython3",
   "version": "3.8.12"
  }
 },
 "nbformat": 4,
 "nbformat_minor": 5
}
