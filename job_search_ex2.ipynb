{
 "cells": [
  {
   "cell_type": "code",
   "execution_count": 1,
   "id": "1d14a62b",
   "metadata": {},
   "outputs": [],
   "source": [
    "from bs4 import BeautifulSoup\n",
    "import requests\n",
    "from selenium import webdriver\n",
    "from selenium.webdriver.chrome.service import Service\n",
    "from selenium.webdriver.common.by import By\n",
    "import time\n",
    "from selenium.webdriver.common.action_chains import ActionChains"
   ]
  },
  {
   "cell_type": "code",
   "execution_count": 4,
   "id": "cc083c29",
   "metadata": {},
   "outputs": [],
   "source": [
    "no_exp_choice = [\n",
    "    \"\"\"//*[@id=\"sp_main_wrapper\"]/div[1]/div[1]\"\"\",\n",
    "    \"\"\"//*[@id=\"sp_main_wrapper\"]/div[1]/div[1]/div/div[1]/div[1]/label\"\"\",\n",
    "    \"\"\"//*[@id=\"sp_main_wrapper\"]/div[1]/div[1]/div/div[3]/button[2]\"\"\"\n",
    "]"
   ]
  },
  {
   "cell_type": "code",
   "execution_count": 5,
   "id": "3f8b1864",
   "metadata": {},
   "outputs": [],
   "source": [
    "city_choice = [\n",
    "    \"\"\"//*[@id=\"sp_main_wrapper\"]/div[2]/ul/li[2]/button/span[1]\"\"\",\n",
    "    \"\"\"//*[@id=\"depth1_btn_101000\"]/button/span[1]\"\"\",\n",
    "    \"\"\"//*[@id=\"depth1_btn_102000\"]/button/span[1]\"\"\"\n",
    "]"
   ]
  },
  {
   "cell_type": "code",
   "execution_count": 6,
   "id": "726b1423",
   "metadata": {},
   "outputs": [],
   "source": [
    "job_choice = [\n",
    "    \"\"\"//*[@id=\"sp_main_wrapper\"]/div[2]/ul/li[1]/button/span[1]\"\"\",\n",
    "    \"\"\"//*[@id=\"sp_main_wrapper\"]/div[2]/div/div[1]/div[2]/div[1]/button[6]\"\"\",\n",
    "    \"\"\"//*[@id=\"sp_job_category_subDepth_2\"]/div[2]/div/div[2]/div/dl[3]/dt/button/span\"\"\"\n",
    "]"
   ]
  },
  {
   "cell_type": "code",
   "execution_count": 7,
   "id": "0683b084",
   "metadata": {},
   "outputs": [],
   "source": [
    "def option_click(xpath_list):\n",
    "    for xpath in xpath_list:\n",
    "        driver.find_element(By.XPATH, xpath).click()"
   ]
  },
  {
   "cell_type": "code",
   "execution_count": 13,
   "id": "edde6894",
   "metadata": {},
   "outputs": [],
   "source": [
    "driver = webdriver.Chrome(service=Service('driver/chromedriver'))\n",
    "driver.get(\"https://www.saramin.co.kr/zf_user/jobs/list/job-category\")"
   ]
  },
  {
   "cell_type": "code",
   "execution_count": 10,
   "id": "e58ba39b",
   "metadata": {},
   "outputs": [],
   "source": [
    "option_click(no_exp_choice)\n",
    "time.sleep(1)\n",
    "option_click(city_choice)\n",
    "time.sleep(1)\n",
    "option_click(job_choice)"
   ]
  },
  {
   "cell_type": "code",
   "execution_count": 14,
   "id": "545a3920",
   "metadata": {},
   "outputs": [],
   "source": [
    "choice_list = [no_exp_choice, city_choice, job_choice]\n",
    "for choice in choice_list:\n",
    "    option_click(choice)\n",
    "    time.sleep(1)"
   ]
  },
  {
   "cell_type": "code",
   "execution_count": 15,
   "id": "8e28b98d",
   "metadata": {},
   "outputs": [
    {
     "name": "stderr",
     "output_type": "stream",
     "text": [
      "E:\\T\\bit/ipykernel_7772/2712938448.py:3: DeprecationWarning: find_element_by_* commands are deprecated. Please use find_element() instead\n",
      "  element = driver.find_element_by_xpath(\"\"\"//*[@id=\"sp_job_category_subDepth_2\"]/div[2]/div/div[2]/div/dl[3]/dd/button[93]\"\"\")\n"
     ]
    }
   ],
   "source": [
    "# from selenium.webdriver.common.action_chains import ActionChains\n",
    "# python 버튼이 있는 곳까지 스크롤하게 하기\n",
    "# find_element_by_xpath\n",
    "element = driver.find_element_by_xpath(\"\"\"//*[@id=\"sp_job_category_subDepth_2\"]/div[2]/div/div[2]/div/dl[3]/dd/button[93]\"\"\")\n",
    "actions = ActionChains(driver)\n",
    "actions.move_to_element(element).perform()\n",
    "xpath = \"\"\"//*[@id=\"sp_job_category_subDepth_2\"]/div[2]/div/div[2]/div/dl[3]/dd/button[93]\"\"\"\n",
    "driver.find_element(By.XPATH, xpath).click()"
   ]
  },
  {
   "cell_type": "code",
   "execution_count": 16,
   "id": "a853d1cd",
   "metadata": {},
   "outputs": [],
   "source": [
    "xpath = \"\"\"//*[@id=\"search_btn\"]\"\"\"\n",
    "driver.find_element(By.XPATH, xpath).click()"
   ]
  },
  {
   "cell_type": "code",
   "execution_count": null,
   "id": "822d535c",
   "metadata": {},
   "outputs": [],
   "source": [
    "# 다른 방법 'python' 검색 후 선택하게 함\n",
    "query_txt = 'python'\n",
    "element = driver.find_element_by_id(\"job_category_ipt_keyword\")\n",
    "element.send_keys(query_txt)"
   ]
  }
 ],
 "metadata": {
  "kernelspec": {
   "display_name": "Python 3 (ipykernel)",
   "language": "python",
   "name": "python3"
  },
  "language_info": {
   "codemirror_mode": {
    "name": "ipython",
    "version": 3
   },
   "file_extension": ".py",
   "mimetype": "text/x-python",
   "name": "python",
   "nbconvert_exporter": "python",
   "pygments_lexer": "ipython3",
   "version": "3.8.12"
  }
 },
 "nbformat": 4,
 "nbformat_minor": 5
}
